{
 "cells": [
  {
   "cell_type": "markdown",
   "metadata": {},
   "source": [
    "## 文本文件的读取\n",
    "* 忽略不相关的内容\n",
    "* 添加变量名称\n",
    "* 忽略不必要的数据\n",
    "* 避免数据读入00的消失"
   ]
  },
  {
   "cell_type": "code",
   "execution_count": 3,
   "metadata": {},
   "outputs": [
    {
     "name": "stderr",
     "output_type": "stream",
     "text": [
      "E:\\Anaconda\\lib\\site-packages\\ipykernel_launcher.py:11: ParserWarning: Falling back to the 'python' engine because the 'c' engine does not support skipfooter; you can avoid this warning by specifying engine='python'.\n",
      "  # This is added back by InteractiveShellApp.init_path()\n"
     ]
    },
    {
     "data": {
      "text/html": [
       "<div>\n",
       "<style scoped>\n",
       "    .dataframe tbody tr th:only-of-type {\n",
       "        vertical-align: middle;\n",
       "    }\n",
       "\n",
       "    .dataframe tbody tr th {\n",
       "        vertical-align: top;\n",
       "    }\n",
       "\n",
       "    .dataframe thead th {\n",
       "        text-align: right;\n",
       "    }\n",
       "</style>\n",
       "<table border=\"1\" class=\"dataframe\">\n",
       "  <thead>\n",
       "    <tr style=\"text-align: right;\">\n",
       "      <th></th>\n",
       "      <th>id</th>\n",
       "      <th>name</th>\n",
       "      <th>gender</th>\n",
       "      <th>occupation</th>\n",
       "    </tr>\n",
       "  </thead>\n",
       "  <tbody>\n",
       "    <tr>\n",
       "      <th>0</th>\n",
       "      <td>00446</td>\n",
       "      <td>张敏</td>\n",
       "      <td>女</td>\n",
       "      <td>前端工程师</td>\n",
       "    </tr>\n",
       "    <tr>\n",
       "      <th>1</th>\n",
       "      <td>00483</td>\n",
       "      <td>李琴</td>\n",
       "      <td>女</td>\n",
       "      <td>Java开发工程师</td>\n",
       "    </tr>\n",
       "    <tr>\n",
       "      <th>2</th>\n",
       "      <td>00552</td>\n",
       "      <td>赵东来</td>\n",
       "      <td>男</td>\n",
       "      <td>数据分析师</td>\n",
       "    </tr>\n",
       "    <tr>\n",
       "      <th>3</th>\n",
       "      <td>00589</td>\n",
       "      <td>丁顺昌</td>\n",
       "      <td>男</td>\n",
       "      <td>数据分析师</td>\n",
       "    </tr>\n",
       "  </tbody>\n",
       "</table>\n",
       "</div>"
      ],
      "text/plain": [
       "      id name gender occupation\n",
       "0  00446   张敏      女      前端工程师\n",
       "1  00483   李琴      女  Java开发工程师\n",
       "2  00552  赵东来      男      数据分析师\n",
       "3  00589  丁顺昌      男      数据分析师"
      ]
     },
     "execution_count": 3,
     "metadata": {},
     "output_type": "execute_result"
    }
   ],
   "source": [
    "# 导入第三方库\n",
    "import pandas as pd\n",
    "# 利用read_table函数读取文本文件的数据\n",
    "data1 = pd.read_table(filepath_or_buffer=r'data1.txt',# 指定文件的路径\n",
    "                     sep = ',',# 指定数据中变量之间的分隔符\n",
    "                     header = None,# 不需要将原始数据中的第一行读作表头\n",
    "                     names = ['id','name','gender','occupation'],# 重新为各列起变量名称\n",
    "                     skiprows = 2,# 跳过起始的两行数据\n",
    "                     skipfooter = 2,# 跳过末尾的两行数据\n",
    "                     comment = '#',# 不读取“#”开头的数据行\n",
    "                     converters = {'id':str}# 对工号变量进行类型转换，避免开头的00消失\n",
    "                     )\n",
    "# 返回数据内容\n",
    "data1"
   ]
  },
  {
   "cell_type": "markdown",
   "metadata": {},
   "source": [
    "## 电子表格的读取\n",
    "* 添加表头\n",
    "* 避免数据读入0的消失\n",
    "* 指定缺失值"
   ]
  },
  {
   "cell_type": "code",
   "execution_count": 4,
   "metadata": {},
   "outputs": [
    {
     "data": {
      "text/html": [
       "<div>\n",
       "<style scoped>\n",
       "    .dataframe tbody tr th:only-of-type {\n",
       "        vertical-align: middle;\n",
       "    }\n",
       "\n",
       "    .dataframe tbody tr th {\n",
       "        vertical-align: top;\n",
       "    }\n",
       "\n",
       "    .dataframe thead th {\n",
       "        text-align: right;\n",
       "    }\n",
       "</style>\n",
       "<table border=\"1\" class=\"dataframe\">\n",
       "  <thead>\n",
       "    <tr style=\"text-align: right;\">\n",
       "      <th></th>\n",
       "      <th>id</th>\n",
       "      <th>date</th>\n",
       "      <th>prod_name</th>\n",
       "      <th>colour</th>\n",
       "      <th>price</th>\n",
       "    </tr>\n",
       "  </thead>\n",
       "  <tbody>\n",
       "    <tr>\n",
       "      <th>0</th>\n",
       "      <td>0023146</td>\n",
       "      <td>2016-03-18</td>\n",
       "      <td>连衣裙</td>\n",
       "      <td>237</td>\n",
       "      <td>白色</td>\n",
       "    </tr>\n",
       "    <tr>\n",
       "      <th>1</th>\n",
       "      <td>1344527</td>\n",
       "      <td>2017-06-12</td>\n",
       "      <td>牛仔裤</td>\n",
       "      <td>368</td>\n",
       "      <td>蓝色</td>\n",
       "    </tr>\n",
       "    <tr>\n",
       "      <th>2</th>\n",
       "      <td>0223685</td>\n",
       "      <td>2018-02-10</td>\n",
       "      <td>皮鞋</td>\n",
       "      <td>589</td>\n",
       "      <td>NaN</td>\n",
       "    </tr>\n",
       "    <tr>\n",
       "      <th>3</th>\n",
       "      <td>0037249</td>\n",
       "      <td>2017-07-17</td>\n",
       "      <td>寸衫</td>\n",
       "      <td>299</td>\n",
       "      <td>白色</td>\n",
       "    </tr>\n",
       "    <tr>\n",
       "      <th>4</th>\n",
       "      <td>0368241</td>\n",
       "      <td>2016-03-23</td>\n",
       "      <td>板鞋</td>\n",
       "      <td>299</td>\n",
       "      <td>蓝色</td>\n",
       "    </tr>\n",
       "    <tr>\n",
       "      <th>5</th>\n",
       "      <td>1127882</td>\n",
       "      <td>2018-09-17</td>\n",
       "      <td>西装</td>\n",
       "      <td>1599</td>\n",
       "      <td>黑色</td>\n",
       "    </tr>\n",
       "  </tbody>\n",
       "</table>\n",
       "</div>"
      ],
      "text/plain": [
       "        id       date prod_name  colour price\n",
       "0  0023146 2016-03-18       连衣裙     237    白色\n",
       "1  1344527 2017-06-12       牛仔裤     368    蓝色\n",
       "2  0223685 2018-02-10        皮鞋     589   NaN\n",
       "3  0037249 2017-07-17        寸衫     299    白色\n",
       "4  0368241 2016-03-23        板鞋     299    蓝色\n",
       "5  1127882 2018-09-17        西装    1599    黑色"
      ]
     },
     "execution_count": 4,
     "metadata": {},
     "output_type": "execute_result"
    }
   ],
   "source": [
    "data2 = pd.read_excel(io = r'data2.xlsx', # 指定文件的路径\n",
    "                     header = None, \n",
    "                     names = ['id','date','prod_name','colour','price'],\n",
    "                     converters = {0:str},# 字典中的键必须为0，因为原始表中没有列名称\n",
    "                     na_values = '未知',# 将原始表中“未知”值转换为缺失值\n",
    "                     )\n",
    "# 返回数据\n",
    "data2"
   ]
  },
  {
   "cell_type": "markdown",
   "metadata": {},
   "source": [
    "### 数据库数据的读取\n"
   ]
  },
  {
   "cell_type": "code",
   "execution_count": 2,
   "metadata": {},
   "outputs": [
    {
     "name": "stdout",
     "output_type": "stream",
     "text": [
      "Looking in indexes: https://pypi.tuna.tsinghua.edu.cn/simple\n",
      "Collecting pymssql\n",
      "  Downloading https://pypi.tuna.tsinghua.edu.cn/packages/45/0c/81bf31194f4dc0ee06b429efe98ce2fc202876cd4749f95bddfb9f3b0a50/pymssql-2.1.4-cp37-cp37m-win_amd64.whl (411 kB)\n",
      "Installing collected packages: pymssql\n",
      "Successfully installed pymssql-2.1.4\n"
     ]
    }
   ],
   "source": [
    "! pip install pymssql"
   ]
  },
  {
   "cell_type": "code",
   "execution_count": 4,
   "metadata": {},
   "outputs": [
    {
     "name": "stdout",
     "output_type": "stream",
     "text": [
      "Looking in indexes: https://pypi.tuna.tsinghua.edu.cn/simple\n",
      "Collecting pymysql\n",
      "  Downloading https://pypi.tuna.tsinghua.edu.cn/packages/2c/57/af502e0e113f139b3f3add4f1efba899a730a365d2264d476e85b9591da5/PyMySQL-0.10.0-py2.py3-none-any.whl (47 kB)\n",
      "Installing collected packages: pymysql\n",
      "Successfully installed pymysql-0.10.0\n"
     ]
    }
   ],
   "source": [
    "! pip install pymysql"
   ]
  },
  {
   "cell_type": "code",
   "execution_count": null,
   "metadata": {},
   "outputs": [],
   "source": [
    "# 导入第三方库\n",
    "import pymssql\n",
    "# 连接SQL Server数据库\n",
    "connect = pymssql.connect(server = 'localhost',#指定服务器的名称\n",
    "                         user = '',#指定访问数据库的用户名\n",
    "                         password = '',#指定访问数据库的密码\n",
    "                         database = 'train',#指定数据所在的数据库名称\n",
    "                         charset = 'utf8'#指定UTF-8字符集，避免中文的乱码\n",
    "                         )\n",
    "# 读取数据\n",
    "data = pd.read_sql(\"select * from sec_buildings where direction='朝南'\",con=connect)\n",
    "# 关闭连接\n",
    "connect.close()\n",
    "# 数据输出\n",
    "data.head()"
   ]
  },
  {
   "cell_type": "code",
   "execution_count": null,
   "metadata": {},
   "outputs": [],
   "source": [
    "# 读入MySQL数据库数据\n",
    "# 导入第三方模块\n",
    "import pymysql\n",
    "import pandas as pd\n",
    "# 连接MySQL数据库\n",
    "conn = pymysql.connect(host='localhost',user='root',password='101052',\n",
    "                      database='test',port=3306,charset='utf8')\n",
    "# 读取数据\n",
    "user = pd.read_sql('select * from topy',conn)\n",
    "# 关闭连接\n",
    "conn.close()\n",
    "# 数据输出\n",
    "user"
   ]
  },
  {
   "cell_type": "code",
   "execution_count": null,
   "metadata": {},
   "outputs": [],
   "source": []
  }
 ],
 "metadata": {
  "kernelspec": {
   "display_name": "Python 3",
   "language": "python",
   "name": "python3"
  },
  "language_info": {
   "codemirror_mode": {
    "name": "ipython",
    "version": 3
   },
   "file_extension": ".py",
   "mimetype": "text/x-python",
   "name": "python",
   "nbconvert_exporter": "python",
   "pygments_lexer": "ipython3",
   "version": "3.7.6"
  }
 },
 "nbformat": 4,
 "nbformat_minor": 4
}

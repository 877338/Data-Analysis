{
 "cells": [
  {
   "cell_type": "code",
   "execution_count": 1,
   "metadata": {
    "collapsed": true
   },
   "outputs": [],
   "source": [
    "import pandas as pd"
   ]
  },
  {
   "cell_type": "code",
   "execution_count": null,
   "metadata": {},
   "outputs": [],
   "source": [
    "# 导入第三方模块\n",
    "import pandas as pd\n",
    "# 利用read_table函数读取文本文件的数据\n",
    "data1 = pd.read_table(filepath_or_buffer=r'C:\\Users\\Administrator\\Desktop\\data1.txt', # 指定文件的路径\n",
    "                     sep = ',', # 指定数据中字段之间的分隔符\n",
    "                     header = None, # 不需要将原始数据中的第一行读作表头\n",
    "                     names = ['id','name','gender','occupation'], # 重新为各列起变量名称\n",
    "                     skiprows = 2, # 跳过起始的2行数据\n",
    "                     skipfooter = 2, # 跳过末尾的2行数据\n",
    "                     comment = '#', # 不读取“#”开头的数据行\n",
    "                     converters = {'id':str} # 对工号字段进行类型转换，避免开头的00消失\n",
    "                     )\n",
    "# 返回数据内容\n",
    "data1"
   ]
  },
  {
   "cell_type": "code",
   "execution_count": null,
   "metadata": {},
   "outputs": [],
   "source": [
    "# 利用read_excel函数读取电子表格数据\n",
    "data2 = pd.read_excel(io = r'C:\\Users\\Administrator\\Desktop\\data2.xlsx', # 指定文件的路径\n",
    "                      header = None,\n",
    "                      names = ['id','date','prod_name','colour','price'],\n",
    "                      converters = {0:str}, # 字典中的键必须为0，因为原始表中没有列名称\n",
    "                      na_values = '未知' # 将原始表中“未知”值转换为缺失值\n",
    "                     )\n",
    "# 返回数据\n",
    "data2"
   ]
  },
  {
   "cell_type": "code",
   "execution_count": null,
   "metadata": {
    "collapsed": true
   },
   "outputs": [],
   "source": [
    "# 导入第三方模块\n",
    "import pymssql\n",
    "# 连接SQL Server数据库\n",
    "connect = pymssql.connect(server = 'localhost', # 指定服务器的名称\n",
    "                          user = '', # 指定访问数据库的用户名\n",
    "                          password = '', # 指定访问数据库的密码\n",
    "                          database = 'train', # 指定数据所在的数据框名称\n",
    "                          charset = 'utf8' # 指定UTF-8字符集，避免中文的乱码\n",
    "                         )\n",
    "# 读取数据\n",
    "data = pd.read_sql(\"select * from sec_buildings where direction = '朝南'\", con=connect)\n",
    "# 关闭连接\n",
    "connect.close()\n",
    "# 数据输出\n",
    "data.head()\n"
   ]
  },
  {
   "cell_type": "code",
   "execution_count": null,
   "metadata": {
    "collapsed": true
   },
   "outputs": [],
   "source": [
    "# 读入MySQL数据库数据\n",
    "# 导入第三方模块\n",
    "import pymysql\n",
    "# 连接MySQL数据库\n",
    "conn = pymysql.connect(host='localhost', user='root', password='test', \n",
    "                       database='test', port=3306, charset='utf8')\n",
    "# 读取数据\n",
    "user = pd.read_sql('select * from topy', conn)\n",
    "# 关闭连接\n",
    "conn.close()\n",
    "# 数据输出\n",
    "user\n"
   ]
  },
  {
   "cell_type": "code",
   "execution_count": null,
   "metadata": {},
   "outputs": [],
   "source": [
    "# 读入外部数据\n",
    "data3 = pd.read_excel(io=r'C:\\Users\\Administrator\\Desktop\\datas\\data3.xlsx')\n",
    "# 查看数据的规模\n",
    "print(data3.shape)\n",
    "# 查看表中各变量的数据类型\n",
    "print(data3.dtypes)"
   ]
  },
  {
   "cell_type": "code",
   "execution_count": null,
   "metadata": {},
   "outputs": [],
   "source": [
    "# 数值型转字符型\n",
    "data3['id'] = data3['id'].astype(str)\n",
    "# 字符型转数值型\n",
    "data3['custom_amt'] = data3['custom_amt'].str[1:].astype(float)\n",
    "# 字符型转日期型\n",
    "data3['order_date'] = pd.to_datetime(data3['order_date'], format = '%Y年%m月%d日')\n",
    "\n",
    "# 重新查看数据集的各变量类型\n",
    "data3.dtypes"
   ]
  },
  {
   "cell_type": "code",
   "execution_count": null,
   "metadata": {},
   "outputs": [],
   "source": [
    "# 数据的预览\n",
    "data3.head()"
   ]
  },
  {
   "cell_type": "code",
   "execution_count": null,
   "metadata": {},
   "outputs": [],
   "source": [
    "# 判断数据中是否存在重复观测\n",
    "data3.duplicated().any()"
   ]
  },
  {
   "cell_type": "code",
   "execution_count": null,
   "metadata": {},
   "outputs": [],
   "source": [
    "# 判断各变量中是否存在缺失值\n",
    "print(data3.isnull().any(axis = 0))\n",
    "\n",
    "# 各变量中缺失值的数量\n",
    "print(data3.isnull().sum(axis = 0))\n",
    "\n",
    "# 各变量中缺失值的比例\n",
    "print(data3.isnull().sum(axis = 0)/data3.shape[0])"
   ]
  },
  {
   "cell_type": "code",
   "execution_count": null,
   "metadata": {},
   "outputs": [],
   "source": [
    "# 判断各数据行中是否存在缺失值\n",
    "data3.isnull().any(axis = 1).any()"
   ]
  },
  {
   "cell_type": "code",
   "execution_count": null,
   "metadata": {},
   "outputs": [],
   "source": [
    "# 缺失观测的行数\n",
    "data3.isnull().any(axis = 1).sum()"
   ]
  },
  {
   "cell_type": "code",
   "execution_count": null,
   "metadata": {},
   "outputs": [],
   "source": [
    "# 缺失观测的比例\n",
    "data3.isnull().any(axis = 1).sum()/data3.shape[0]"
   ]
  },
  {
   "cell_type": "code",
   "execution_count": null,
   "metadata": {},
   "outputs": [],
   "source": [
    "# 删除法处理缺失值\n",
    "# 删除字段 -- 如删除缺失率非常高的edu变量\n",
    "data3.drop(labels = 'edu', axis = 1, inplace=True)\n",
    "# 数据预览\n",
    "data3.head()"
   ]
  },
  {
   "cell_type": "code",
   "execution_count": null,
   "metadata": {},
   "outputs": [],
   "source": [
    "# 删除观测，-- 如删除age变量中所对应的缺失观测\n",
    "data3_new = data3.drop(labels = data3.index[data3['age'].isnull()], axis = 0)\n",
    "# 查看数据的规模\n",
    "data3_new.shape"
   ]
  },
  {
   "cell_type": "code",
   "execution_count": null,
   "metadata": {},
   "outputs": [],
   "source": [
    "# 替换法处理缺失值\n",
    "data3.fillna(value = {'gender': data3['gender'].mode()[0], # 使用性别的众数替换缺失性别\n",
    "                      'age':data3['age'].mean() # 使用年龄的平均值替换缺失年龄\n",
    "                     },\n",
    "             inplace = True # 原地修改数据\n",
    "            )\n",
    "# 再次查看各变量的缺失比例\n",
    "data3.isnull().sum(axis = 0)"
   ]
  },
  {
   "cell_type": "code",
   "execution_count": null,
   "metadata": {},
   "outputs": [],
   "source": [
    "# 构造数据框\n",
    "df1 = pd.DataFrame({'name':['甲','乙','丙','丁','戊'], \n",
    "                    'gender':['男','女','女','女','男'], \n",
    "                    'age':[23,26,22,25,27],\n",
    "                    'edu':['本科','本科','硕士','本科','硕士']\n",
    "                   }, # 基于Python中的字典构造数据\n",
    "                   columns = ['name','gender','edu','age'] # 给数据的变量起名称\n",
    "                  )\n",
    "# 查看数据预览\n",
    "df1"
   ]
  },
  {
   "cell_type": "code",
   "execution_count": null,
   "metadata": {},
   "outputs": [],
   "source": [
    "# 取出数据集的中间三行(即所有女性)，并且返回姓名、年龄和受教育水平三列\n",
    "# iloc“方法”\n",
    "df1.iloc[1:4,[0,3,2]]     \n",
    "# loc“方法”\n",
    "df1.loc[1:3, ['name','age','edu']]\n",
    "# ix“方法”\n",
    "df1.ix[1:3,[0,3,2]]"
   ]
  },
  {
   "cell_type": "code",
   "execution_count": null,
   "metadata": {},
   "outputs": [],
   "source": [
    "df2 = df1.set_index('name')\n",
    "df2"
   ]
  },
  {
   "cell_type": "code",
   "execution_count": null,
   "metadata": {},
   "outputs": [],
   "source": [
    "# iloc“方法”取出数据的中间三行\n",
    "df2.iloc[1:4,:]\n",
    "# loc“方法”取出数据的中间三行\n",
    "df2.loc[['乙','丙','丁'],:]\n",
    "# ix“方法”取出数据的中间三行\n",
    "df2.ix[1:4,:]"
   ]
  },
  {
   "cell_type": "code",
   "execution_count": null,
   "metadata": {},
   "outputs": [],
   "source": [
    "# 使用筛选条件，取出所有男性的姓名、年龄和受教育水平\n",
    "# loc“方法”作筛选\n",
    "df1.loc[df1.gender == '男',['name','age','edu']]\n",
    "# ix“方法”作筛选\n",
    "df1.ix[df1.gender == '男',[0,3,2]]\n"
   ]
  },
  {
   "cell_type": "code",
   "execution_count": null,
   "metadata": {},
   "outputs": [],
   "source": [
    "# 删除观测，-- 如删除age变量中所对应的缺失观测\n",
    "data3_new2 = data3.loc[~data3['age'].isnull(),]\n",
    "# 查看数据的规模\n",
    "data3_new2.shape\n"
   ]
  },
  {
   "cell_type": "code",
   "execution_count": null,
   "metadata": {},
   "outputs": [],
   "source": [
    "# 构造数据集df1和df2\n",
    "df1 = pd.DataFrame({'name':['张三','李四','王二'], 'age':[21,25,22], 'gender':['男','女','男']})\n",
    "df2 = pd.DataFrame({'name':['丁一','赵五'], 'age':[23,22], 'gender':['女','女']})\n",
    "\n",
    "# 数据集的纵向合并\n",
    "df3 = pd.concat([df1,df2] , # 须将被合并的数据集组合到列表中，否则报错\n",
    "                keys = ['df1','df2'] # 借助于该参数区分不同的数据源\n",
    "                )\n",
    "# 数据预览\n",
    "df3"
   ]
  },
  {
   "cell_type": "code",
   "execution_count": null,
   "metadata": {},
   "outputs": [],
   "source": [
    "# 将第一列索引列转换为变量\n",
    "df3.reset_index(level = 0, # level用于指定第几个索引列需要转换，0表示第一个索引列\n",
    "                inplace = True)\n",
    "# 变量重命名\n",
    "df3.rename(columns = {'level_0':'tab_name'}, inplace = True)\n",
    "# 重新调整行索引值\n",
    "df3.index = range(df3.shape[0])\n",
    "# 数据预览\n",
    "df3"
   ]
  },
  {
   "cell_type": "code",
   "execution_count": null,
   "metadata": {},
   "outputs": [],
   "source": [
    "# 故意将df2数据集中的name名称换位Name\n",
    "df2.rename(columns = {'name':'Name'}, inplace = True)\n",
    "df2"
   ]
  },
  {
   "cell_type": "code",
   "execution_count": null,
   "metadata": {},
   "outputs": [],
   "source": [
    "# 数据纵向合并\n",
    "df4 = pd.concat([df1,df2])\n",
    "\n",
    "# 数据横向合并\n",
    "df5 = pd.concat([df1, df2], \n",
    "                join_axes = [df2.index], # 仅保留与df2列索引值一致的数据，类似于交集\n",
    "                axis = 1)\n",
    "\n",
    "# 数据预览\n",
    "df4\n",
    "df5"
   ]
  },
  {
   "cell_type": "code",
   "execution_count": null,
   "metadata": {},
   "outputs": [],
   "source": [
    "# 构造数据集\n",
    "df3 = pd.DataFrame({'id':[1,2,3,4,5],'name':['张三','李四','王二','丁一','赵五'],\n",
    "                    'age':[27,24,25,23,25],'gender':['男','男','男','女','女']})\n",
    "df4 = pd.DataFrame({'Id':[1,2,2,4,4,4,5],'score':[83,81,87,75,86,74,88],\n",
    "                    'kemu':['科目1','科目1','科目2','科目1','科目2','科目3','科目1']})\n",
    "df5 = pd.DataFrame({'id':[1,3,5],'name':['张三','王二','赵五'],'income':[13500,18000,15000]})\n",
    "\n",
    "# 首先df3和df4连接\n",
    "merge1 = pd.merge(left = df3, right = df4, how = 'left', left_on='id', right_on='Id')\n",
    "merge1\n",
    "# 再将连接结果与df5连接\n",
    "merge2 = pd.merge(left = merge1, right = df5, how = 'left')\n",
    "merge2\n"
   ]
  },
  {
   "cell_type": "code",
   "execution_count": null,
   "metadata": {},
   "outputs": [],
   "source": [
    "# 数据读取\n",
    "diamonds = pd.read_table(r'C:\\Users\\Administrator\\Desktop\\datas\\diamonds.csv', sep = ',')\n",
    "# 单个分组变量的均值统计\n",
    "pd.pivot_table(data = diamonds, index = 'color', values = 'price', margins = True, margins_name = '总计')"
   ]
  },
  {
   "cell_type": "code",
   "execution_count": null,
   "metadata": {},
   "outputs": [],
   "source": [
    "# 导入numpy模块\n",
    "import numpy as np\n",
    "pd.pivot_table(data = diamonds, index = 'clarity', columns = 'cut', values = 'carat', \n",
    "            aggfunc = np.size,margins = True, margins_name = '总计')"
   ]
  },
  {
   "cell_type": "code",
   "execution_count": null,
   "metadata": {},
   "outputs": [],
   "source": [
    "diamonds.columns"
   ]
  },
  {
   "cell_type": "code",
   "execution_count": null,
   "metadata": {},
   "outputs": [],
   "source": [
    "# 通过groupby方法，指定分组变量\n",
    "grouped = diamonds.groupby(by = ['color','cut'])\n",
    "# 对分组变量进行统计汇总\n",
    "result = grouped.aggregate({'color':np.size, 'carat':np.min, 'price':np.mean, 'face_width':np.max})\n",
    "result"
   ]
  },
  {
   "cell_type": "code",
   "execution_count": null,
   "metadata": {},
   "outputs": [],
   "source": [
    "# 调整变量名的顺序\n",
    "result = pd.DataFrame(result, columns=['color','carat','price','face_width'])\n",
    "result"
   ]
  },
  {
   "cell_type": "code",
   "execution_count": null,
   "metadata": {
    "collapsed": true
   },
   "outputs": [],
   "source": [
    "# 数据集重命名\n",
    "result.rename(columns={'color':'counts','carat':'min_weight','price':'avg_price','face_width':'max_face_width'}, inplace=True)\n",
    "result"
   ]
  },
  {
   "cell_type": "code",
   "execution_count": null,
   "metadata": {
    "collapsed": true
   },
   "outputs": [],
   "source": [
    "# 将行索引变量数据框的变量\n",
    "result.reset_index(inplace=True)\n",
    "result"
   ]
  },
  {
   "cell_type": "code",
   "execution_count": null,
   "metadata": {
    "collapsed": true
   },
   "outputs": [],
   "source": []
  },
  {
   "cell_type": "code",
   "execution_count": null,
   "metadata": {},
   "outputs": [],
   "source": [
    "# 绘制太阳黑子数据的箱线图\n",
    "# 导入第三方模块\n",
    "import matplotlib.pyplot as plt\n",
    "\n",
    "# 导入数据\n",
    "sunspots = pd.read_csv(r'C:\\Users\\Administrator\\Desktop\\sunspots.csv')\n",
    "# 绘制箱线图（1.5倍的四分位差）\n",
    "plt.boxplot(x = sunspots.counts, # 指定绘制箱线图的数据\n",
    "            whis = 3, # 指定1.5倍的四分位差\n",
    "            widths = 0.7, # 指定箱线图的宽度为0.8\n",
    "            patch_artist = True, # 指定需要填充箱体颜色\n",
    "            showmeans = True, # 指定需要显示均值\n",
    "            boxprops = {'facecolor':'steelblue'}, # 指定箱体的填充色为铁蓝色\n",
    "            flierprops = {'markerfacecolor':'red', 'markeredgecolor':'red', 'markersize':4}, # 指定异常点的填充色、边框色和大小\n",
    "            meanprops = {'marker':'D','markerfacecolor':'black', 'markersize':4}, # 指定均值点的标记符号（菱形）、填充色和大小\n",
    "            medianprops = {'linestyle':'--','color':'orange'}, # 指定中位数的标记符号（虚线）和颜色\n",
    "            labels = [''] # 去除箱线图的x轴刻度值\n",
    "           )\n",
    "# 显示图形\n",
    "plt.show()"
   ]
  },
  {
   "cell_type": "code",
   "execution_count": null,
   "metadata": {},
   "outputs": [],
   "source": [
    "# 计算下四分位数和上四分位\n",
    "Q1 = sunspots.counts.quantile(q = 0.25)\n",
    "Q3 = sunspots.counts.quantile(q = 0.75)\n",
    "\n",
    "# 基于1.5倍的四分位差计算上下须对应的值\n",
    "low_whisker = Q1 - 1.5*(Q3 - Q1)\n",
    "up_whisker = Q3 + 1.5*(Q3 - Q1)\n",
    "\n",
    "# 寻找异常点\n",
    "sunspots.counts[(sunspots.counts > up_whisker) | (sunspots.counts < low_whisker)]"
   ]
  },
  {
   "cell_type": "code",
   "execution_count": null,
   "metadata": {},
   "outputs": [],
   "source": [
    "# 利用正态分布的特性寻找异常点\n",
    "# 读入外部数据\n",
    "pay_ratio = pd.read_excel(r'C:\\Users\\Administrator\\Desktop\\pay_ratio.xlsx')\n",
    "# 返回数据的前5行\n",
    "pay_ratio.head()\n"
   ]
  },
  {
   "cell_type": "code",
   "execution_count": null,
   "metadata": {},
   "outputs": [],
   "source": [
    "# 绘制折线图+散点图\n",
    "# 绘制单条折线图，并在折线图的基础上添加点图\n",
    "plt.plot(pay_ratio.date, # x轴数据\n",
    "         pay_ratio.ratio, # y轴数据\n",
    "         linestyle = '-', # 折线类型\n",
    "         linewidth = 2, # 折线宽度\n",
    "         color = 'steelblue', # 折线颜色\n",
    "         marker = 'o', # 折线图中添加圆点\n",
    "         markersize = 4, # 点的大小\n",
    "         markeredgecolor='black', # 点的边框色\n",
    "         markerfacecolor='black') # 点的填充色\n",
    "plt.show()\n",
    "\n",
    "# 添加上下界的水平参考线\n",
    "plt.axhline(y = pay_ratio.ratio.mean() - 3* pay_ratio.ratio.std(), linestyle = '--', color = 'gray')\n",
    "plt.axhline(y = pay_ratio.ratio.mean() + 3* pay_ratio.ratio.std(), linestyle = '--', color = 'gray')\n",
    "\n",
    "# 导入模块，用于日期刻度的修改（因为默认格式下的日期刻度标签并不是很友好）\n",
    "import matplotlib as mpl\n",
    "# 获取图的坐标信息\n",
    "ax = plt.gca()\n",
    "# 设置日期的显示格式  \n",
    "date_format = mpl.dates.DateFormatter(\"%m-%d\")  \n",
    "ax.xaxis.set_major_formatter(date_format) \n",
    "\n",
    "# 设置x轴每个刻度的间隔天数\n",
    "xlocator = mpl.ticker.MultipleLocator(7)\n",
    "ax.xaxis.set_major_locator(xlocator)\n",
    "# 为了避免x轴刻度标签的紧凑，将刻度标签旋转45度\n",
    "plt.xticks(rotation=45)"
   ]
  },
  {
   "cell_type": "code",
   "execution_count": null,
   "metadata": {},
   "outputs": [],
   "source": [
    "# 计算判断异常点和极端异常点的临界值\n",
    "outlier_ll = pay_ratio.ratio.mean() - 2* pay_ratio.ratio.std()\n",
    "outlier_ul = pay_ratio.ratio.mean() + 2* pay_ratio.ratio.std()\n",
    "\n",
    "extreme_outlier_ll = pay_ratio.ratio.mean() - 3* pay_ratio.ratio.std()\n",
    "extreme_outlier_ul = pay_ratio.ratio.mean() + 3* pay_ratio.ratio.std()\n",
    "\n",
    "# 寻找异常点\n",
    "pay_ratio.loc[(pay_ratio.ratio > outlier_ul) | (pay_ratio.ratio < outlier_ll), ['date','ratio']]\n",
    "# 寻找极端异常点\n",
    "pay_ratio.loc[(pay_ratio.ratio > extreme_outlier_ul) | (pay_ratio.ratio < extreme_outlier_ll), ['date','ratio']]"
   ]
  },
  {
   "cell_type": "code",
   "execution_count": null,
   "metadata": {},
   "outputs": [],
   "source": [
    "# 导入第三方模块\n",
    "import seaborn as sns\n",
    "import scipy.stats as stats\n",
    "import statsmodels.api as sm\n",
    "\n",
    "# 读入外部数据\n",
    "sec_buildings  = pd.read_excel(r'C:\\Users\\Administrator\\Desktop\\sec_buildings.xlsx')\n",
    "# 数据的预览\n",
    "sec_buildings.head()"
   ]
  },
  {
   "cell_type": "code",
   "execution_count": null,
   "metadata": {
    "collapsed": true
   },
   "outputs": [],
   "source": [
    "# 中文和负号的正常显示\n",
    "plt.rcParams['font.sans-serif'] = ['Microsoft YaHei']\n",
    "plt.rcParams['axes.unicode_minus'] = False\n",
    "# 基于直方图判断数据是否服从正态分布\n",
    "sns.distplot(a = sec_buildings.price, # 指定绘图数据\n",
    "             fit = stats.norm, # 指定绘制理论的正态分布曲线\n",
    "             norm_hist = True, # 绘制频率直方图\n",
    "             # 设置直方图的属性（填充色和边框色）\n",
    "             hist_kws = {'color':'steelblue', 'edgecolor':'black'}, \n",
    "             # 设置核密度曲线的属性（线条颜色、类型和标签）\n",
    "             kde_kws = {'color':'black', 'linestyle':'--', 'label':'核密度曲线'}, \n",
    "             # 设置理论正态分布曲线的属性（线条颜色、类型和标签）\n",
    "             fit_kws = {'color':'red', 'linestyle':':', 'label':'正态密度曲线'})\n",
    "# 显示图例\n",
    "plt.legend()\n",
    "# 显示图形\n",
    "plt.show()"
   ]
  },
  {
   "cell_type": "code",
   "execution_count": null,
   "metadata": {
    "collapsed": true
   },
   "outputs": [],
   "source": [
    "# 基于PP图和QQ图判断数据是否服从正态分布\n",
    "pp_qq_plot = sm.ProbPlot(sec_buildings.price_unit)\n",
    "# 绘制PP图\n",
    "pp_qq_plot.ppplot(line = '45')\n",
    "plt.title('P-P图')\n",
    "# 绘制QQ图\n",
    "pp_qq_plot.qqplot(line = 'q')\n",
    "plt.title('Q-Q图')\n",
    "# 显示图形\n",
    "plt.show()"
   ]
  },
  {
   "cell_type": "code",
   "execution_count": null,
   "metadata": {},
   "outputs": [],
   "source": [
    "# 基于定量的统计方法判断数据是否服从正态分布\n",
    "stats.kstest(rvs = sec_buildings.price, # 指定待检验的数据\n",
    "             # 利用实际数据的均值和标准差设定理论的正态分布\n",
    "             args = (sec_buildings.price.mean(), sec_buildings.price.std()), \n",
    "             cdf = 'norm' # 指定累计分布函数为正态函数\n",
    "            )"
   ]
  },
  {
   "cell_type": "code",
   "execution_count": null,
   "metadata": {},
   "outputs": [],
   "source": [
    "# 导入第三方模块\n",
    "import numpy as np\n",
    "\n",
    "# 生成正态分布和均匀分布随机数\n",
    "x1 = np.random.normal(loc = 5, scale=2, size = 3500)\n",
    "x2 = np.random.uniform(low = 1, high = 100, size = 4000)\n",
    "# 正态性检验\n",
    "Shapiro_Test1 = stats.shapiro(x = x1)\n",
    "Shapiro_Test2 = stats.shapiro(x = x2)\n",
    "\n",
    "# 打印检验结果\n",
    "print(Shapiro_Test1)\n",
    "print(Shapiro_Test2)"
   ]
  },
  {
   "cell_type": "code",
   "execution_count": null,
   "metadata": {},
   "outputs": [],
   "source": [
    "# 读取汽车评分数据\n",
    "cars_score = pd.read_csv(r'C:\\Users\\Administrator\\Desktop\\cars_score.csv')\n",
    "\n",
    "# 计算各指标的平均得分\n",
    "cars_score.mean(axis = 0)i"
   ]
  },
  {
   "cell_type": "code",
   "execution_count": null,
   "metadata": {},
   "outputs": [],
   "source": [
    "# 读取用户的RFM数据\n",
    "RFM = pd.read_excel(r'C:\\Users\\Administrator\\Desktop\\RFM.xlsx')\n",
    "RFM.head()\n",
    "\n",
    "# 计算每个用户在R、F、M三个指标上的加权平均得分\n",
    "RFM['Weight_Mean'] = 0.2*RFM['R_score'] + 0.5*RFM['F_score'] + 0.3*RFM['M_score']\n",
    "RFM.head()"
   ]
  },
  {
   "cell_type": "code",
   "execution_count": null,
   "metadata": {},
   "outputs": [],
   "source": [
    "# 读取GDP数据\n",
    "GDP = pd.read_excel(r'C:\\Users\\Administrator\\Desktop\\GDP.xls')"
   ]
  },
  {
   "cell_type": "code",
   "execution_count": null,
   "metadata": {},
   "outputs": [],
   "source": [
    "# 利用cumprod“方法”实现所有元素的累计乘积\n",
    "cum_prod = GDP.Grouth.cumprod()\n",
    "# 基于cum_prod结果，利用索引将最后一个累积元素取出来\n",
    "res = cum_prod[GDP.shape[0]-1]\n",
    "# 计算几何平均值\n",
    "pow(res, 1/len(cum_prod))"
   ]
  },
  {
   "cell_type": "code",
   "execution_count": null,
   "metadata": {},
   "outputs": [],
   "source": [
    "# 导入第三方包\n",
    "import matplotlib.pyplot as plt\n",
    "\n",
    "# 读入酒吧服务员的小费数据\n",
    "tips = pd.read_csv(r'C:\\Users\\Administrator\\Desktop\\tips.csv')\n",
    "\n",
    "# 基于pandas模块中的hist“方法”绘制直方图\n",
    "tips.tip.hist(grid = False, # 去除图框内的网格线\n",
    "              facecolor='steelblue', # 直方图的填充色为铁蓝色\n",
    "              edgecolor='black' # 直方图的边框色为黑色\n",
    "             )\n",
    "# 显示图形\n",
    "plt.show()"
   ]
  },
  {
   "cell_type": "code",
   "execution_count": null,
   "metadata": {},
   "outputs": [],
   "source": [
    "# 计算小费数据的中位数\n",
    "print('中位数为：',tips.tip.median())\n",
    "# 计算小费数据的均值\n",
    "print('均值为：',tips.tip.mean())\n",
    "# 计算小费数据的上下四分位数\n",
    "print('下四分位数为：',tips.tip.quantile(q = 0.25))\n",
    "print('上四分位数为：',tips.tip.quantile(q = 0.75))\n"
   ]
  },
  {
   "cell_type": "code",
   "execution_count": null,
   "metadata": {},
   "outputs": [],
   "source": [
    "# 读入Titanic数据集\n",
    "titanic = pd.read_excel(r'C:\\Users\\Administrator\\Desktop\\Titanic.xlsx')\n",
    "# 计算登船地址的众数\n",
    "titanic.Embarked.mode()"
   ]
  },
  {
   "cell_type": "code",
   "execution_count": null,
   "metadata": {},
   "outputs": [],
   "source": [
    "# 读入用户收入数据\n",
    "income = pd.read_excel(r'C:\\Users\\Administrator\\Desktop\\Income.xlsx')\n",
    "\n",
    "# 返回众数所在组的行索引\n",
    "index = income.Counts.argmax()\n",
    "# 返回众数所在组的下限\n",
    "L = int(income.Income[index].split(',')[0][1:])\n",
    "# 返回众数所在组的上限\n",
    "U = int(income.Income[index].split(',')[1][:-1])\n",
    "\n",
    "# 返回左邻与右邻组所对应的频次\n",
    "LF = income.Counts[index - 1]\n",
    "RF = income.Counts[index + 1]\n",
    "# 计算众数\n",
    "mode = L + LF/(LF+RF) * (U-L)\n",
    "mode"
   ]
  },
  {
   "cell_type": "code",
   "execution_count": null,
   "metadata": {},
   "outputs": [],
   "source": [
    "# 计算小费的方差\n",
    "Var = tips.tip.var()\n",
    "# 计算小费的标准差\n",
    "Std = tips.tip.std()\n",
    "\n",
    "# 返回计算结果\n",
    "print('小费的方差为', Var)\n",
    "print('小费的标准差为', Std)"
   ]
  },
  {
   "cell_type": "code",
   "execution_count": null,
   "metadata": {
    "scrolled": true
   },
   "outputs": [],
   "source": [
    "# 筛选出男性顾客与女性顾客的小费数据\n",
    "tip_man = tips.tip[tips.sex == 'Male']\n",
    "tip_women = tips.tip[tips.sex == 'Female']\n",
    "# 统计男性顾客与女性顾客的样本量\n",
    "print('男性顾客的样本量为：',len(tip_man))\n",
    "print('女性顾客的样本量为', len(tip_women))"
   ]
  },
  {
   "cell_type": "code",
   "execution_count": null,
   "metadata": {},
   "outputs": [],
   "source": [
    "# 计算男性顾客与女性顾客所支付小费的变异系数\n",
    "cv_man = tip_man.mean()/tip_man.std()\n",
    "cv_women = tip_women.mean()/tip_women.std()\n",
    "print('男性顾客的变异系数：', cv_man)\n",
    "print('女性顾客的变异系数：', cv_women)"
   ]
  },
  {
   "cell_type": "code",
   "execution_count": null,
   "metadata": {},
   "outputs": [],
   "source": [
    "# describe“方法”默认对所有数值型变量作统计汇总\n",
    "tips.describe()"
   ]
  },
  {
   "cell_type": "code",
   "execution_count": null,
   "metadata": {},
   "outputs": [],
   "source": [
    "# 通过指定include参数可以实现离散型变量的统计汇总\n",
    "tips.describe(include = ['object'])"
   ]
  },
  {
   "cell_type": "code",
   "execution_count": null,
   "metadata": {},
   "outputs": [],
   "source": [
    "# 读入森林火灾数据\n",
    "forestfires = pd.read_csv(r'C:\\Users\\Administrator\\Desktop\\forestfires.csv')\n",
    "# 计算受灾面积的偏度\n",
    "print('偏度为：',forestfires.area.skew())\n",
    "# 计算受灾面积的峰度\n",
    "print('峰度为：', forestfires.area.kurt())"
   ]
  },
  {
   "cell_type": "code",
   "execution_count": null,
   "metadata": {},
   "outputs": [],
   "source": [
    "# 导入第三方模块\n",
    "import matplotlib.pyplot as plt\n",
    "# 绘制直方图\n",
    "plt.hist(x = forestfires.area, # 指定绘图数据\n",
    "         bins = 50, # 指定直方图中条形的数量为50个\n",
    "         color = 'steelblue', # 指定直方图的填充色为铁蓝色\n",
    "         edgecolor = 'black', # 指定直方图的边框色为黑色\n",
    "         )\n",
    "# 显示图形\n",
    "plt.show()\n"
   ]
  },
  {
   "cell_type": "code",
   "execution_count": null,
   "metadata": {},
   "outputs": [],
   "source": [
    "# 读入CCPP数据集\n",
    "ccpp = pd.read_excel(r'C:\\Users\\Administrator\\Desktop\\CCPP.xlsx')\n",
    "# 计算PE变量与其余变量之间的相关系数\n",
    "ccpp.corrwith(ccpp.PE)"
   ]
  },
  {
   "cell_type": "code",
   "execution_count": null,
   "metadata": {
    "collapsed": true
   },
   "outputs": [],
   "source": [
    "# 导入第三方模块\n",
    "import matplotlib.pyplot as plt\n",
    "\n",
    "# 绘制PE与AT之间的散点图\n",
    "plt.scatter(x = ccpp.AT, y = ccpp.PE, # 指定绘图数据\n",
    "            c = 'steelblue', # 指定散点的填充色为铁蓝色\n",
    "            alpha = 0.7, # 设定散点图的透明度为0.7\n",
    "            edgecolors = 'black' # 指定散点图的边框色为黑色\n",
    "           )\n",
    "# 添加x轴和y轴标签\n",
    "plt.xlabel('AT')\n",
    "plt.ylabel('PE')\n",
    "\n",
    "# 显示图形\n",
    "plt.show()"
   ]
  },
  {
   "cell_type": "code",
   "execution_count": null,
   "metadata": {},
   "outputs": [],
   "source": [
    "# 导入第三方模块\n",
    "import seaborn as sns\n",
    "# 绘制ccpp数据集中两两变量之间的散点图\n",
    "sns.pairplot(ccpp)\n",
    "# 显示图形\n",
    "plt.show()"
   ]
  },
  {
   "cell_type": "code",
   "execution_count": 23,
   "metadata": {},
   "outputs": [],
   "source": [
    "# 读取销售数据\n",
    "sales = pd.read_excel(r'C:\\Users\\Administrator\\Desktop\\trans_amt.xlsx')\n",
    "# 将date变量转换为日期型变量\n",
    "sales.month = pd.to_datetime(sales.month, format = '%Y年%m月')\n",
    "\n",
    "# 绘制每月的销售额\n",
    "plt.plot(sales.month, sales.trans_amt, linestyle = '-', linewidth = 2, \n",
    "         color = 'steelblue', marker = 'o', markersize = 4, \n",
    "         markeredgecolor='black', markerfacecolor='black')\n",
    "\n",
    "# 获取图的坐标信息\n",
    "ax = plt.gca()\n",
    "# 设置日期的显示格式  \n",
    "date_format = mpl.dates.DateFormatter(\"%y/%m\")  \n",
    "ax.xaxis.set_major_formatter(date_format) \n",
    "\n",
    "# 设置x轴显示多少个日期刻度\n",
    "xlocator = mpl.ticker.LinearLocator(18)\n",
    "ax.xaxis.set_major_locator(xlocator)\n",
    "\n",
    "# 将刻度标签旋转45度\n",
    "plt.xticks(rotation=45)\n",
    "# 显示图形\n",
    "plt.show()"
   ]
  },
  {
   "cell_type": "code",
   "execution_count": 6,
   "metadata": {},
   "outputs": [
    {
     "data": {
      "text/html": [
       "<div>\n",
       "<table border=\"1\" class=\"dataframe\">\n",
       "  <thead>\n",
       "    <tr style=\"text-align: right;\">\n",
       "      <th></th>\n",
       "      <th>month</th>\n",
       "      <th>trans_amt</th>\n",
       "    </tr>\n",
       "  </thead>\n",
       "  <tbody>\n",
       "    <tr>\n",
       "      <th>0</th>\n",
       "      <td>2015年1月</td>\n",
       "      <td>110</td>\n",
       "    </tr>\n",
       "    <tr>\n",
       "      <th>1</th>\n",
       "      <td>2015年2月</td>\n",
       "      <td>83</td>\n",
       "    </tr>\n",
       "    <tr>\n",
       "      <th>2</th>\n",
       "      <td>2015年3月</td>\n",
       "      <td>157</td>\n",
       "    </tr>\n",
       "    <tr>\n",
       "      <th>3</th>\n",
       "      <td>2015年4月</td>\n",
       "      <td>279</td>\n",
       "    </tr>\n",
       "    <tr>\n",
       "      <th>4</th>\n",
       "      <td>2015年5月</td>\n",
       "      <td>86</td>\n",
       "    </tr>\n",
       "  </tbody>\n",
       "</table>\n",
       "</div>"
      ],
      "text/plain": [
       "     month  trans_amt\n",
       "0  2015年1月        110\n",
       "1  2015年2月         83\n",
       "2  2015年3月        157\n",
       "3  2015年4月        279\n",
       "4  2015年5月         86"
      ]
     },
     "execution_count": 6,
     "metadata": {},
     "output_type": "execute_result"
    }
   ],
   "source": []
  }
 ],
 "metadata": {
  "anaconda-cloud": {},
  "kernelspec": {
   "display_name": "Python [Anaconda3]",
   "language": "python",
   "name": "Python [Anaconda3]"
  },
  "language_info": {
   "codemirror_mode": {
    "name": "ipython",
    "version": 3
   },
   "file_extension": ".py",
   "mimetype": "text/x-python",
   "name": "python",
   "nbconvert_exporter": "python",
   "pygments_lexer": "ipython3",
   "version": "3.5.2"
  }
 },
 "nbformat": 4,
 "nbformat_minor": 1
}

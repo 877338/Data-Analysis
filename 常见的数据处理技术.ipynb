{
 "cells": [
  {
   "cell_type": "markdown",
   "metadata": {},
   "source": [
    "# 数据的概览与清洗\n",
    "## 1.数据类型的判断与转换\n",
    "* Python语法中的函数有两种表现形式：函数(语法为（func（parameters)）、方法（语法为（obj.func(parameters)））,方法是针对特定对象的函数"
   ]
  },
  {
   "cell_type": "code",
   "execution_count": 1,
   "metadata": {},
   "outputs": [],
   "source": [
    "import pandas as pd"
   ]
  },
  {
   "cell_type": "code",
   "execution_count": 3,
   "metadata": {},
   "outputs": [
    {
     "data": {
      "text/plain": [
       "(3000, 6)"
      ]
     },
     "execution_count": 3,
     "metadata": {},
     "output_type": "execute_result"
    }
   ],
   "source": [
    "# 读入外部数据\n",
    "data3 = pd.read_excel(io=r'data3.xlsx')\n",
    "# 查看数据的规模\n",
    "data3.shape"
   ]
  },
  {
   "cell_type": "code",
   "execution_count": 4,
   "metadata": {},
   "outputs": [
    {
     "data": {
      "text/plain": [
       "id              int64\n",
       "gender         object\n",
       "age           float64\n",
       "edu            object\n",
       "custom_amt     object\n",
       "order_date     object\n",
       "dtype: object"
      ]
     },
     "execution_count": 4,
     "metadata": {},
     "output_type": "execute_result"
    }
   ],
   "source": [
    "# 查看表中各变量的数据类型\n",
    "data3.dtypes"
   ]
  },
  {
   "cell_type": "code",
   "execution_count": 5,
   "metadata": {},
   "outputs": [
    {
     "data": {
      "text/plain": [
       "id                    object\n",
       "gender                object\n",
       "age                  float64\n",
       "edu                   object\n",
       "custom_amt           float64\n",
       "order_date    datetime64[ns]\n",
       "dtype: object"
      ]
     },
     "execution_count": 5,
     "metadata": {},
     "output_type": "execute_result"
    }
   ],
   "source": [
    "# 数值型转字符型\n",
    "data3['id'] = data3['id'].astype(str)\n",
    "# 字符型转数值型\n",
    "data3['custom_amt'] = data3['custom_amt'].str[1:].astype(float)\n",
    "# 字符型转日期型\n",
    "data3['order_date'] = pd.to_datetime(data3['order_date'],format='%Y年%m月%d日')\n",
    "\n",
    "# 重新查看数量集的各变量类型\n",
    "data3.dtypes"
   ]
  },
  {
   "cell_type": "code",
   "execution_count": 6,
   "metadata": {},
   "outputs": [
    {
     "data": {
      "text/html": [
       "<div>\n",
       "<style scoped>\n",
       "    .dataframe tbody tr th:only-of-type {\n",
       "        vertical-align: middle;\n",
       "    }\n",
       "\n",
       "    .dataframe tbody tr th {\n",
       "        vertical-align: top;\n",
       "    }\n",
       "\n",
       "    .dataframe thead th {\n",
       "        text-align: right;\n",
       "    }\n",
       "</style>\n",
       "<table border=\"1\" class=\"dataframe\">\n",
       "  <thead>\n",
       "    <tr style=\"text-align: right;\">\n",
       "      <th></th>\n",
       "      <th>id</th>\n",
       "      <th>gender</th>\n",
       "      <th>age</th>\n",
       "      <th>edu</th>\n",
       "      <th>custom_amt</th>\n",
       "      <th>order_date</th>\n",
       "    </tr>\n",
       "  </thead>\n",
       "  <tbody>\n",
       "    <tr>\n",
       "      <th>0</th>\n",
       "      <td>890</td>\n",
       "      <td>female</td>\n",
       "      <td>43.0</td>\n",
       "      <td>NaN</td>\n",
       "      <td>2177.94</td>\n",
       "      <td>2018-12-25</td>\n",
       "    </tr>\n",
       "    <tr>\n",
       "      <th>1</th>\n",
       "      <td>2391</td>\n",
       "      <td>male</td>\n",
       "      <td>52.0</td>\n",
       "      <td>NaN</td>\n",
       "      <td>2442.18</td>\n",
       "      <td>2017-05-24</td>\n",
       "    </tr>\n",
       "    <tr>\n",
       "      <th>2</th>\n",
       "      <td>2785</td>\n",
       "      <td>male</td>\n",
       "      <td>39.0</td>\n",
       "      <td>NaN</td>\n",
       "      <td>849.79</td>\n",
       "      <td>2018-05-15</td>\n",
       "    </tr>\n",
       "    <tr>\n",
       "      <th>3</th>\n",
       "      <td>1361</td>\n",
       "      <td>female</td>\n",
       "      <td>26.0</td>\n",
       "      <td>NaN</td>\n",
       "      <td>2482.22</td>\n",
       "      <td>2018-05-16</td>\n",
       "    </tr>\n",
       "    <tr>\n",
       "      <th>4</th>\n",
       "      <td>888</td>\n",
       "      <td>female</td>\n",
       "      <td>61.0</td>\n",
       "      <td>本科</td>\n",
       "      <td>2027.90</td>\n",
       "      <td>2018-01-21</td>\n",
       "    </tr>\n",
       "  </tbody>\n",
       "</table>\n",
       "</div>"
      ],
      "text/plain": [
       "     id  gender   age  edu  custom_amt order_date\n",
       "0   890  female  43.0  NaN     2177.94 2018-12-25\n",
       "1  2391    male  52.0  NaN     2442.18 2017-05-24\n",
       "2  2785    male  39.0  NaN      849.79 2018-05-15\n",
       "3  1361  female  26.0  NaN     2482.22 2018-05-16\n",
       "4   888  female  61.0   本科     2027.90 2018-01-21"
      ]
     },
     "execution_count": 6,
     "metadata": {},
     "output_type": "execute_result"
    }
   ],
   "source": [
    "# 预览数据的前5行\n",
    "data3.head()"
   ]
  },
  {
   "cell_type": "markdown",
   "metadata": {},
   "source": [
    "## 2.冗余数据的判断与处理\n",
    "* 利用代码在数据集中发现了重复观测值，可以使用drop_duplicates方法将冗余信息删除\n",
    "* 使用duplicated方法对数据行做重复性判断时，会返回一个与原数据行相同的序列（没有重复，对应False,否则True）\n",
    "* 使用any方法，即序列中只要存在一个True，则返回True"
   ]
  },
  {
   "cell_type": "code",
   "execution_count": 8,
   "metadata": {},
   "outputs": [
    {
     "data": {
      "text/plain": [
       "False"
      ]
     },
     "execution_count": 8,
     "metadata": {},
     "output_type": "execute_result"
    }
   ],
   "source": [
    "# 判断数据中是否存在重复观测值\n",
    "data3.duplicated().any()"
   ]
  },
  {
   "cell_type": "markdown",
   "metadata": {},
   "source": [
    "## 3.缺失数据的判断与处理"
   ]
  },
  {
   "cell_type": "code",
   "execution_count": 9,
   "metadata": {},
   "outputs": [
    {
     "data": {
      "text/plain": [
       "id            0.000000\n",
       "gender        0.045333\n",
       "age           0.033333\n",
       "edu           0.642333\n",
       "custom_amt    0.000000\n",
       "order_date    0.000000\n",
       "dtype: float64"
      ]
     },
     "execution_count": 9,
     "metadata": {},
     "output_type": "execute_result"
    }
   ],
   "source": [
    "# 判断各变量中是否存在缺失值\n",
    "data3.isnull().any(axis = 0)\n",
    "\n",
    "# 各变量中缺失值的数量\n",
    "data3.isnull().sum(axis = 0)/data3.shape[0]"
   ]
  },
  {
   "cell_type": "code",
   "execution_count": 10,
   "metadata": {},
   "outputs": [
    {
     "data": {
      "text/plain": [
       "True"
      ]
     },
     "execution_count": 10,
     "metadata": {},
     "output_type": "execute_result"
    }
   ],
   "source": [
    "# 判断各数据行中是否存在缺失值\n",
    "data3.isnull().any(axis = 1).any()"
   ]
  },
  {
   "cell_type": "code",
   "execution_count": 11,
   "metadata": {},
   "outputs": [
    {
     "data": {
      "text/plain": [
       "0.6746666666666666"
      ]
     },
     "execution_count": 11,
     "metadata": {},
     "output_type": "execute_result"
    }
   ],
   "source": [
    "# 缺失观测值的行数\n",
    "data3.isnull().any(axis = 1).sum()\n",
    "\n",
    "# 缺失观测值的比例\n",
    "data3.isnull().any(axis = 1).sum()/data3.shape[0]"
   ]
  },
  {
   "cell_type": "code",
   "execution_count": 12,
   "metadata": {},
   "outputs": [
    {
     "data": {
      "text/html": [
       "<div>\n",
       "<style scoped>\n",
       "    .dataframe tbody tr th:only-of-type {\n",
       "        vertical-align: middle;\n",
       "    }\n",
       "\n",
       "    .dataframe tbody tr th {\n",
       "        vertical-align: top;\n",
       "    }\n",
       "\n",
       "    .dataframe thead th {\n",
       "        text-align: right;\n",
       "    }\n",
       "</style>\n",
       "<table border=\"1\" class=\"dataframe\">\n",
       "  <thead>\n",
       "    <tr style=\"text-align: right;\">\n",
       "      <th></th>\n",
       "      <th>id</th>\n",
       "      <th>gender</th>\n",
       "      <th>age</th>\n",
       "      <th>custom_amt</th>\n",
       "      <th>order_date</th>\n",
       "    </tr>\n",
       "  </thead>\n",
       "  <tbody>\n",
       "    <tr>\n",
       "      <th>0</th>\n",
       "      <td>890</td>\n",
       "      <td>female</td>\n",
       "      <td>43.0</td>\n",
       "      <td>2177.94</td>\n",
       "      <td>2018-12-25</td>\n",
       "    </tr>\n",
       "    <tr>\n",
       "      <th>1</th>\n",
       "      <td>2391</td>\n",
       "      <td>male</td>\n",
       "      <td>52.0</td>\n",
       "      <td>2442.18</td>\n",
       "      <td>2017-05-24</td>\n",
       "    </tr>\n",
       "    <tr>\n",
       "      <th>2</th>\n",
       "      <td>2785</td>\n",
       "      <td>male</td>\n",
       "      <td>39.0</td>\n",
       "      <td>849.79</td>\n",
       "      <td>2018-05-15</td>\n",
       "    </tr>\n",
       "    <tr>\n",
       "      <th>3</th>\n",
       "      <td>1361</td>\n",
       "      <td>female</td>\n",
       "      <td>26.0</td>\n",
       "      <td>2482.22</td>\n",
       "      <td>2018-05-16</td>\n",
       "    </tr>\n",
       "    <tr>\n",
       "      <th>4</th>\n",
       "      <td>888</td>\n",
       "      <td>female</td>\n",
       "      <td>61.0</td>\n",
       "      <td>2027.90</td>\n",
       "      <td>2018-01-21</td>\n",
       "    </tr>\n",
       "  </tbody>\n",
       "</table>\n",
       "</div>"
      ],
      "text/plain": [
       "     id  gender   age  custom_amt order_date\n",
       "0   890  female  43.0     2177.94 2018-12-25\n",
       "1  2391    male  52.0     2442.18 2017-05-24\n",
       "2  2785    male  39.0      849.79 2018-05-15\n",
       "3  1361  female  26.0     2482.22 2018-05-16\n",
       "4   888  female  61.0     2027.90 2018-01-21"
      ]
     },
     "execution_count": 12,
     "metadata": {},
     "output_type": "execute_result"
    }
   ],
   "source": [
    "# 删除变量。如删除缺失率非常高的edu变量\n",
    "data3.drop(labels='edu',axis=1,inplace=True)\n",
    "# 数据预览\n",
    "data3.head()"
   ]
  },
  {
   "cell_type": "code",
   "execution_count": 13,
   "metadata": {},
   "outputs": [
    {
     "data": {
      "text/plain": [
       "(2900, 5)"
      ]
     },
     "execution_count": 13,
     "metadata": {},
     "output_type": "execute_result"
    }
   ],
   "source": [
    "# 删除观测值，如删除age变量中所对应的缺失观测值\n",
    "data3_new = data3.drop(labels=data3.index[data3['age'].isnull()],axis=0)\n",
    "# 查看数据的规模\n",
    "data3_new.shape"
   ]
  },
  {
   "cell_type": "code",
   "execution_count": 15,
   "metadata": {},
   "outputs": [
    {
     "data": {
      "text/plain": [
       "id            0\n",
       "gender        0\n",
       "age           0\n",
       "custom_amt    0\n",
       "order_date    0\n",
       "dtype: int64"
      ]
     },
     "execution_count": 15,
     "metadata": {},
     "output_type": "execute_result"
    }
   ],
   "source": [
    "# 替换法处理缺失值\n",
    "data3.fillna(value = {'gender':data3['gender'].mode()[0],#使用性别的众数替换缺失性别\n",
    "                     'age':data3['age'].mean()#使用年龄的平均值替换缺失年龄\n",
    "                     },\n",
    "            inplace = True# 原地修改数据\n",
    "            )\n",
    "# 再次查看个变量的缺失比列\n",
    "data3.isnull().sum(axis = 0)"
   ]
  },
  {
   "cell_type": "code",
   "execution_count": null,
   "metadata": {},
   "outputs": [],
   "source": []
  }
 ],
 "metadata": {
  "kernelspec": {
   "display_name": "Python 3",
   "language": "python",
   "name": "python3"
  },
  "language_info": {
   "codemirror_mode": {
    "name": "ipython",
    "version": 3
   },
   "file_extension": ".py",
   "mimetype": "text/x-python",
   "name": "python",
   "nbconvert_exporter": "python",
   "pygments_lexer": "ipython3",
   "version": "3.7.6"
  }
 },
 "nbformat": 4,
 "nbformat_minor": 4
}

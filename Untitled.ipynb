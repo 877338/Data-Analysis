{
 "cells": [
  {
   "cell_type": "code",
   "execution_count": 2,
   "metadata": {},
   "outputs": [
    {
     "name": "stdout",
     "output_type": "stream",
     "text": [
      "[[ 0.  1.  2.  3.]\n",
      " [ 4.  5. nan nan]\n",
      " [ 8.  9. 10. 11.]]\n"
     ]
    }
   ],
   "source": [
    "import numpy as np\n",
    "\n",
    "t1 = np.arange(12).reshape((3,4)).astype(\"float\")\n",
    "\n",
    "t1[1,2:] = np.nan\n",
    "print(t1)"
   ]
  },
  {
   "cell_type": "code",
   "execution_count": 6,
   "metadata": {},
   "outputs": [
    {
     "name": "stdout",
     "output_type": "stream",
     "text": [
      "[[ 0.  1.  2.  3.]\n",
      " [ 4.  5. nan nan]\n",
      " [ 8.  9. 10. 11.]]\n",
      "[[ 0.  1.  2.  3.]\n",
      " [ 4.  5.  6.  7.]\n",
      " [ 8.  9. 10. 11.]]\n"
     ]
    }
   ],
   "source": [
    "def fill_ndarray(t1):\n",
    "    for i in range(t1.shape[1]):  #遍历每一列 \n",
    "        temp_col = t1[:,i]   #当前的一列\n",
    "        nan_num = np.count_nonzero(temp_col!=temp_col)\n",
    "        if nan_num !=0: #不为0，说明当前这一列中有nan\n",
    "            temp_not_nan_col = temp_col[temp_col==temp_col]  #当前一列不为nan的array\n",
    "\n",
    "            # 选中当前为nan的位置，把值赋值为不为nan的均值\n",
    "            temp_col[np.isnan(temp_col)] = temp_not_nan_col.mean()\n",
    "    return t1\n",
    "\n",
    "\n",
    "if __name__ == '__main__':\n",
    "    t1 = np.arange(12).reshape((3,4)).astype(\"float\")\n",
    "    t1[1,2:] = np.nan\n",
    "    print(t1)\n",
    "    t1 = fill_ndarray(t1)\n",
    "    print(t1)"
   ]
  },
  {
   "cell_type": "code",
   "execution_count": null,
   "metadata": {},
   "outputs": [],
   "source": []
  }
 ],
 "metadata": {
  "kernelspec": {
   "display_name": "Python 3",
   "language": "python",
   "name": "python3"
  },
  "language_info": {
   "codemirror_mode": {
    "name": "ipython",
    "version": 3
   },
   "file_extension": ".py",
   "mimetype": "text/x-python",
   "name": "python",
   "nbconvert_exporter": "python",
   "pygments_lexer": "ipython3",
   "version": "3.7.6"
  }
 },
 "nbformat": 4,
 "nbformat_minor": 4
}

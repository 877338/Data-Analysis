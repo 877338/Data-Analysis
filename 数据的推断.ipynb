{
 "cells": [
  {
   "cell_type": "markdown",
   "metadata": {},
   "source": [
    "## 1.正态性检验——以二手房数据分析为例"
   ]
  },
  {
   "cell_type": "markdown",
   "metadata": {},
   "source": [
    "### (1).直方图法"
   ]
  },
  {
   "cell_type": "code",
   "execution_count": 4,
   "metadata": {},
   "outputs": [
    {
     "data": {
      "text/html": [
       "<div>\n",
       "<style scoped>\n",
       "    .dataframe tbody tr th:only-of-type {\n",
       "        vertical-align: middle;\n",
       "    }\n",
       "\n",
       "    .dataframe tbody tr th {\n",
       "        vertical-align: top;\n",
       "    }\n",
       "\n",
       "    .dataframe thead th {\n",
       "        text-align: right;\n",
       "    }\n",
       "</style>\n",
       "<table border=\"1\" class=\"dataframe\">\n",
       "  <thead>\n",
       "    <tr style=\"text-align: right;\">\n",
       "      <th></th>\n",
       "      <th>block</th>\n",
       "      <th>type</th>\n",
       "      <th>size</th>\n",
       "      <th>region</th>\n",
       "      <th>height</th>\n",
       "      <th>direction</th>\n",
       "      <th>price</th>\n",
       "      <th>built_date</th>\n",
       "      <th>price_unit</th>\n",
       "    </tr>\n",
       "  </thead>\n",
       "  <tbody>\n",
       "    <tr>\n",
       "      <th>0</th>\n",
       "      <td>梅园六街坊</td>\n",
       "      <td>2室0厅</td>\n",
       "      <td>47.72</td>\n",
       "      <td>浦东</td>\n",
       "      <td>低区/6层</td>\n",
       "      <td>朝南</td>\n",
       "      <td>500</td>\n",
       "      <td>1992年建</td>\n",
       "      <td>104777</td>\n",
       "    </tr>\n",
       "    <tr>\n",
       "      <th>1</th>\n",
       "      <td>碧云新天地（一期）</td>\n",
       "      <td>3室2厅</td>\n",
       "      <td>108.93</td>\n",
       "      <td>浦东</td>\n",
       "      <td>低区/6层</td>\n",
       "      <td>朝南</td>\n",
       "      <td>735</td>\n",
       "      <td>2002年建</td>\n",
       "      <td>67474</td>\n",
       "    </tr>\n",
       "    <tr>\n",
       "      <th>2</th>\n",
       "      <td>博山小区</td>\n",
       "      <td>1室1厅</td>\n",
       "      <td>43.79</td>\n",
       "      <td>浦东</td>\n",
       "      <td>中区/6层</td>\n",
       "      <td>朝南</td>\n",
       "      <td>260</td>\n",
       "      <td>1988年建</td>\n",
       "      <td>59374</td>\n",
       "    </tr>\n",
       "    <tr>\n",
       "      <th>3</th>\n",
       "      <td>金桥新村四街坊（博兴路986弄）</td>\n",
       "      <td>1室1厅</td>\n",
       "      <td>41.66</td>\n",
       "      <td>浦东</td>\n",
       "      <td>中区/6层</td>\n",
       "      <td>朝南北</td>\n",
       "      <td>280</td>\n",
       "      <td>1997年建</td>\n",
       "      <td>67210</td>\n",
       "    </tr>\n",
       "    <tr>\n",
       "      <th>4</th>\n",
       "      <td>博山小区</td>\n",
       "      <td>1室0厅</td>\n",
       "      <td>39.77</td>\n",
       "      <td>浦东</td>\n",
       "      <td>高区/6层</td>\n",
       "      <td>朝南</td>\n",
       "      <td>235</td>\n",
       "      <td>1987年建</td>\n",
       "      <td>59089</td>\n",
       "    </tr>\n",
       "  </tbody>\n",
       "</table>\n",
       "</div>"
      ],
      "text/plain": [
       "              block  type    size region height direction  price built_date  \\\n",
       "0             梅园六街坊  2室0厅   47.72     浦东  低区/6层        朝南    500     1992年建   \n",
       "1         碧云新天地（一期）  3室2厅  108.93     浦东  低区/6层        朝南    735     2002年建   \n",
       "2              博山小区  1室1厅   43.79     浦东  中区/6层        朝南    260     1988年建   \n",
       "3  金桥新村四街坊（博兴路986弄）  1室1厅   41.66     浦东  中区/6层       朝南北    280     1997年建   \n",
       "4              博山小区  1室0厅   39.77     浦东  高区/6层        朝南    235     1987年建   \n",
       "\n",
       "   price_unit  \n",
       "0      104777  \n",
       "1       67474  \n",
       "2       59374  \n",
       "3       67210  \n",
       "4       59089  "
      ]
     },
     "execution_count": 4,
     "metadata": {},
     "output_type": "execute_result"
    }
   ],
   "source": [
    "# 导入第三方模块\n",
    "import pandas as pd\n",
    "import seaborn as sns\n",
    "import scipy.stats as stats\n",
    "import statsmodels.api as sm\n",
    "import matplotlib.pyplot as plt\n",
    "\n",
    "# 读入外部数据\n",
    "sec_buildings  = pd.read_excel(r'sec_buildings.xlsx')\n",
    "# 数据的预览\n",
    "sec_buildings.head()"
   ]
  },
  {
   "cell_type": "code",
   "execution_count": 5,
   "metadata": {},
   "outputs": [
    {
     "data": {
      "image/png": "[encoded data removed]",
      "text/plain": [
       "<Figure size 432x288 with 1 Axes>"
      ]
     },
     "metadata": {
      "needs_background": "light"
     },
     "output_type": "display_data"
    }
   ],
   "source": [
    "# 中文和负号的正常显示\n",
    "plt.rcParams['font.sans-serif'] = ['Microsoft YaHei']\n",
    "plt.rcParams['axes.unicode_minus'] = False\n",
    "# 基于直方图判断数据是否服从正态分布\n",
    "sns.distplot(a = sec_buildings.price, # 指定绘图数据\n",
    "             fit = stats.norm, # 指定绘制理论的正态分布曲线\n",
    "             norm_hist = True, # 绘制频率直方图\n",
    "             # 设置直方图的属性（填充色和边框色）\n",
    "             hist_kws = {'color':'steelblue', 'edgecolor':'black'}, \n",
    "             # 设置核密度曲线的属性（线条颜色、类型和标签）\n",
    "             kde_kws = {'color':'black', 'linestyle':'--', 'label':'核密度曲线'}, \n",
    "             # 设置理论正态分布曲线的属性（线条颜色、类型和标签）\n",
    "             fit_kws = {'color':'red', 'linestyle':':', 'label':'正态密度曲线'})\n",
    "# 显示图例\n",
    "plt.legend()\n",
    "# 显示图形\n",
    "plt.show()"
   ]
  },
  {
   "cell_type": "markdown",
   "metadata": {},
   "source": [
    "## (2)PP图与QQ图"
   ]
  },
  {
   "cell_type": "code",
   "execution_count": 8,
   "metadata": {},
   "outputs": [
    {
     "data": {
      "image/png": "[encoded data removed]",
      "text/plain": [
       "<Figure size 432x288 with 1 Axes>"
      ]
     },
     "metadata": {
      "needs_background": "light"
     },
     "output_type": "display_data"
    },
    {
     "data": {
      "image/png": "[encoded data removed]",
      "text/plain": [
       "<Figure size 432x288 with 1 Axes>"
      ]
     },
     "metadata": {
      "needs_background": "light"
     },
     "output_type": "display_data"
    }
   ],
   "source": [
    "# 基于PP图和QQ图判断数据是否服从正态分布\n",
    "pp_qq_plot = sm.ProbPlot(sec_buildings.price_unit)\n",
    "# 绘制PP图\n",
    "pp_qq_plot.ppplot(line = '45')\n",
    "plt.title('P-P图')\n",
    "# 绘制QQ图\n",
    "pp_qq_plot.qqplot(line = 'q')\n",
    "plt.title('Q-Q图')\n",
    "# 显示图形\n",
    "plt.show()"
   ]
  },
  {
   "cell_type": "markdown",
   "metadata": {},
   "source": [
    "## (3)Shapiro检验法和K-S检验法"
   ]
  },
  {
   "cell_type": "code",
   "execution_count": 9,
   "metadata": {},
   "outputs": [
    {
     "data": {
      "text/plain": [
       "KstestResult(statistic=0.1683380890487141, pvalue=0.0)"
      ]
     },
     "execution_count": 9,
     "metadata": {},
     "output_type": "execute_result"
    }
   ],
   "source": [
    "# 基于定量的统计方法判断数据是否服从正态分布\n",
    "stats.kstest(rvs = sec_buildings.price, # 指定待检验的数据\n",
    "             # 利用实际数据的均值和标准差设定理论的正态分布\n",
    "             args = (sec_buildings.price.mean(), sec_buildings.price.std()), \n",
    "             cdf = 'norm' # 指定累计分布函数为正态函数\n",
    "            )"
   ]
  },
  {
   "cell_type": "code",
   "execution_count": 10,
   "metadata": {},
   "outputs": [
    {
     "name": "stdout",
     "output_type": "stream",
     "text": [
      "(0.9995139837265015, 0.5456996560096741)\n",
      "(0.9532173275947571, 5.531665652506002e-34)\n"
     ]
    }
   ],
   "source": [
    "# 导入第三方模块\n",
    "import numpy as np\n",
    "\n",
    "# 生成正态分布和均匀分布随机数\n",
    "x1 = np.random.normal(loc = 5, scale=2, size = 3500)\n",
    "x2 = np.random.uniform(low = 1, high = 100, size = 4000)\n",
    "# 正态性检验\n",
    "Shapiro_Test1 = stats.shapiro(x = x1)\n",
    "Shapiro_Test2 = stats.shapiro(x = x2)\n",
    "\n",
    "# 打印检验结果\n",
    "print(Shapiro_Test1)\n",
    "print(Shapiro_Test2)"
   ]
  },
  {
   "cell_type": "markdown",
   "metadata": {},
   "source": [
    "# 2.卡方检验——以吸烟与呼吸道疾病关系分析研究"
   ]
  },
  {
   "cell_type": "code",
   "execution_count": null,
   "metadata": {},
   "outputs": [],
   "source": []
  }
 ],
 "metadata": {
  "kernelspec": {
   "display_name": "Python 3",
   "language": "python",
   "name": "python3"
  },
  "language_info": {
   "codemirror_mode": {
    "name": "ipython",
    "version": 3
   },
   "file_extension": ".py",
   "mimetype": "text/x-python",
   "name": "python",
   "nbconvert_exporter": "python",
   "pygments_lexer": "ipython3",
   "version": "3.7.6"
  }
 },
 "nbformat": 4,
 "nbformat_minor": 4
}

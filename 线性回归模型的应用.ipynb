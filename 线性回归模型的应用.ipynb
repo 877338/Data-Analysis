{
 "cells": [
  {
   "cell_type": "markdown",
   "metadata": {},
   "source": [
    "### 1.简单线性回归模型"
   ]
  },
  {
   "cell_type": "code",
   "execution_count": null,
   "metadata": {},
   "outputs": [],
   "source": [
    "import pandas as pd\n",
    "import matplotlib.pyplot as plt\n",
    "import seaborn as sns\n",
    "\n",
    "# 读取汽车刹车速度与距离的数据\n",
    "speed_dist = pd.read_csv(r'cars_score.csv')\n",
    "\n",
    "# 绘制散点图，并添加拟合线\n",
    "sns.lmplot(x = 'speed',#指定x轴变量\n",
    "          y = 'dist',#指定y轴变量\n",
    "          data = speed_dist,#指定绘图数据集\n",
    "          legend_out = False,#将图例呈现在图框内\n",
    "          truncate = True#根据实际的数据范围，对拟合线做截断操作\n",
    "          )\n",
    "#显示图形\n",
    "plt.show()"
   ]
  },
  {
   "cell_type": "markdown",
   "metadata": {},
   "source": [
    "### 2.拟合线的求解"
   ]
  },
  {
   "cell_type": "code",
   "execution_count": null,
   "metadata": {},
   "outputs": [],
   "source": [
    "# 导入第三方库\n",
    "import statsmodels.api as sm\n",
    "# 利用汽车的刹车数据，构建回归模型\n",
    "fit = sm.formula.ols('dist ~ speed',data=speed_dist).fit()\n",
    "# 返回模型的参数值\n",
    "fit.params"
   ]
  }
 ],
 "metadata": {
  "kernelspec": {
   "display_name": "Python 3",
   "language": "python",
   "name": "python3"
  },
  "language_info": {
   "codemirror_mode": {
    "name": "ipython",
    "version": 3
   },
   "file_extension": ".py",
   "mimetype": "text/x-python",
   "name": "python",
   "nbconvert_exporter": "python",
   "pygments_lexer": "ipython3",
   "version": "3.7.6"
  }
 },
 "nbformat": 4,
 "nbformat_minor": 4
}
